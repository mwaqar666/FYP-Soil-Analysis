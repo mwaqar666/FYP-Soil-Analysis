{
 "cells": [
  {
   "cell_type": "code",
   "execution_count": 113,
   "metadata": {
    "collapsed": true
   },
   "outputs": [],
   "source": [
    "# Import Libraries\n",
    "import joblib\n",
    "import pandas as pd\n",
    "from matplotlib import pyplot as plt\n",
    "from sklearn.model_selection import train_test_split\n",
    "# from sklearn.preprocessing import MinMaxScaler, StandardScaler\n",
    "from sklearn.neural_network import MLPRegressor\n",
    "\n",
    "plt.style.use({'figure.facecolor':'white'})"
   ]
  },
  {
   "cell_type": "code",
   "execution_count": 114,
   "outputs": [
    {
     "data": {
      "text/plain": "   Nitrogen  Phosphorus  Pottassium  Temperature        pH        EC\n0        14          67          25    25.287106  7.241152  0.000503\n1        25          76          17    31.741054  7.241149  0.000505\n2         0          74          17    23.333759  7.240988  0.000599\n3        14          69          19    20.956285  7.239455  0.001514\n4       108          36          19    22.782496  7.238567  0.002057",
      "text/html": "<div>\n<style scoped>\n    .dataframe tbody tr th:only-of-type {\n        vertical-align: middle;\n    }\n\n    .dataframe tbody tr th {\n        vertical-align: top;\n    }\n\n    .dataframe thead th {\n        text-align: right;\n    }\n</style>\n<table border=\"1\" class=\"dataframe\">\n  <thead>\n    <tr style=\"text-align: right;\">\n      <th></th>\n      <th>Nitrogen</th>\n      <th>Phosphorus</th>\n      <th>Pottassium</th>\n      <th>Temperature</th>\n      <th>pH</th>\n      <th>EC</th>\n    </tr>\n  </thead>\n  <tbody>\n    <tr>\n      <th>0</th>\n      <td>14</td>\n      <td>67</td>\n      <td>25</td>\n      <td>25.287106</td>\n      <td>7.241152</td>\n      <td>0.000503</td>\n    </tr>\n    <tr>\n      <th>1</th>\n      <td>25</td>\n      <td>76</td>\n      <td>17</td>\n      <td>31.741054</td>\n      <td>7.241149</td>\n      <td>0.000505</td>\n    </tr>\n    <tr>\n      <th>2</th>\n      <td>0</td>\n      <td>74</td>\n      <td>17</td>\n      <td>23.333759</td>\n      <td>7.240988</td>\n      <td>0.000599</td>\n    </tr>\n    <tr>\n      <th>3</th>\n      <td>14</td>\n      <td>69</td>\n      <td>19</td>\n      <td>20.956285</td>\n      <td>7.239455</td>\n      <td>0.001514</td>\n    </tr>\n    <tr>\n      <th>4</th>\n      <td>108</td>\n      <td>36</td>\n      <td>19</td>\n      <td>22.782496</td>\n      <td>7.238567</td>\n      <td>0.002057</td>\n    </tr>\n  </tbody>\n</table>\n</div>"
     },
     "execution_count": 114,
     "metadata": {},
     "output_type": "execute_result"
    }
   ],
   "source": [
    "# Read CSV\n",
    "df = pd.read_csv('C:/Users/mwaqa/Desktop/FYP-Soil-Analysis/Data/Kaggle Dataset of N, P, K, pH, Temperature and Labels.csv').drop(['Humidity', 'Label'], 1)\n",
    "df.head()"
   ],
   "metadata": {
    "collapsed": false,
    "pycharm": {
     "name": "#%%\n"
    }
   }
  },
  {
   "cell_type": "code",
   "execution_count": 115,
   "outputs": [
    {
     "data": {
      "text/plain": "          Nitrogen   Phosphorus   Pottassium  Temperature           pH  \\\ncount  2158.000000  2158.000000  2158.000000  2158.000000  2158.000000   \nmean     50.368860    53.403151    48.517609    25.614176     6.453441   \nstd      36.865582    33.208179    51.015478     5.077331     0.772755   \nmin       0.000000     5.000000     5.000000     8.825675     3.504752   \n25%      21.000000    28.000000    20.000000    22.760150     5.956448   \n50%      37.000000    51.000000    32.000000    25.605637     6.413738   \n75%      84.000000    68.000000    49.000000    28.566535     6.886082   \nmax     140.000000   145.000000   205.000000    43.675493     9.935091   \n\n                EC  \ncount  2158.000000  \nmean      4.530675  \nstd      17.364660  \nmin       0.000503  \n25%       1.068576  \n50%       1.873411  \n75%       2.427262  \nmax     301.242946  ",
      "text/html": "<div>\n<style scoped>\n    .dataframe tbody tr th:only-of-type {\n        vertical-align: middle;\n    }\n\n    .dataframe tbody tr th {\n        vertical-align: top;\n    }\n\n    .dataframe thead th {\n        text-align: right;\n    }\n</style>\n<table border=\"1\" class=\"dataframe\">\n  <thead>\n    <tr style=\"text-align: right;\">\n      <th></th>\n      <th>Nitrogen</th>\n      <th>Phosphorus</th>\n      <th>Pottassium</th>\n      <th>Temperature</th>\n      <th>pH</th>\n      <th>EC</th>\n    </tr>\n  </thead>\n  <tbody>\n    <tr>\n      <th>count</th>\n      <td>2158.000000</td>\n      <td>2158.000000</td>\n      <td>2158.000000</td>\n      <td>2158.000000</td>\n      <td>2158.000000</td>\n      <td>2158.000000</td>\n    </tr>\n    <tr>\n      <th>mean</th>\n      <td>50.368860</td>\n      <td>53.403151</td>\n      <td>48.517609</td>\n      <td>25.614176</td>\n      <td>6.453441</td>\n      <td>4.530675</td>\n    </tr>\n    <tr>\n      <th>std</th>\n      <td>36.865582</td>\n      <td>33.208179</td>\n      <td>51.015478</td>\n      <td>5.077331</td>\n      <td>0.772755</td>\n      <td>17.364660</td>\n    </tr>\n    <tr>\n      <th>min</th>\n      <td>0.000000</td>\n      <td>5.000000</td>\n      <td>5.000000</td>\n      <td>8.825675</td>\n      <td>3.504752</td>\n      <td>0.000503</td>\n    </tr>\n    <tr>\n      <th>25%</th>\n      <td>21.000000</td>\n      <td>28.000000</td>\n      <td>20.000000</td>\n      <td>22.760150</td>\n      <td>5.956448</td>\n      <td>1.068576</td>\n    </tr>\n    <tr>\n      <th>50%</th>\n      <td>37.000000</td>\n      <td>51.000000</td>\n      <td>32.000000</td>\n      <td>25.605637</td>\n      <td>6.413738</td>\n      <td>1.873411</td>\n    </tr>\n    <tr>\n      <th>75%</th>\n      <td>84.000000</td>\n      <td>68.000000</td>\n      <td>49.000000</td>\n      <td>28.566535</td>\n      <td>6.886082</td>\n      <td>2.427262</td>\n    </tr>\n    <tr>\n      <th>max</th>\n      <td>140.000000</td>\n      <td>145.000000</td>\n      <td>205.000000</td>\n      <td>43.675493</td>\n      <td>9.935091</td>\n      <td>301.242946</td>\n    </tr>\n  </tbody>\n</table>\n</div>"
     },
     "execution_count": 115,
     "metadata": {},
     "output_type": "execute_result"
    }
   ],
   "source": [
    "df.describe()"
   ],
   "metadata": {
    "collapsed": false,
    "pycharm": {
     "name": "#%%\n"
    }
   }
  },
  {
   "cell_type": "code",
   "execution_count": 116,
   "outputs": [],
   "source": [
    "# scaler = MinMaxScaler(feature_range=(0, 3))\n",
    "# scaled_data = scaler.fit_transform(df.drop(['EC'], 1))\n",
    "# df = pd.DataFrame({'Temperature': scaled_data[:, 0], 'pH': scaled_data[:, 1], 'Adjusted pH': scaled_data[:, 2], 'EC': df['EC']})"
   ],
   "metadata": {
    "collapsed": false,
    "pycharm": {
     "name": "#%%\n"
    }
   }
  },
  {
   "cell_type": "code",
   "execution_count": 117,
   "outputs": [],
   "source": [
    "# df.describe()"
   ],
   "metadata": {
    "collapsed": false,
    "pycharm": {
     "name": "#%%\n"
    }
   }
  },
  {
   "cell_type": "code",
   "execution_count": 118,
   "outputs": [],
   "source": [
    "# EC, pH, adjusted_pH = df[['EC']], df[['pH']], df[['Adjusted pH']]\n",
    "#\n",
    "# # Plot between pH and EC\n",
    "# plt.scatter(pH, EC)\n",
    "# plt.title('pH - EC')\n",
    "# plt.xlabel('pH')\n",
    "# plt.ylabel('EC')\n",
    "# plt.show()\n",
    "#\n",
    "# # Plot between Adjusted pH and EC\n",
    "# plt.scatter(adjusted_pH, EC)\n",
    "# plt.title('Adjusted pH - EC')\n",
    "# plt.xlabel('Adjusted pH')\n",
    "# plt.ylabel('EC')\n",
    "# plt.show()"
   ],
   "metadata": {
    "collapsed": false,
    "pycharm": {
     "name": "#%%\n"
    }
   }
  },
  {
   "cell_type": "code",
   "execution_count": 119,
   "outputs": [
    {
     "data": {
      "text/plain": "         EC  Temperature\n0  0.000503    25.287106\n1  0.000505    31.741054\n2  0.000599    23.333759\n3  0.001514    20.956285\n4  0.002057    22.782496",
      "text/html": "<div>\n<style scoped>\n    .dataframe tbody tr th:only-of-type {\n        vertical-align: middle;\n    }\n\n    .dataframe tbody tr th {\n        vertical-align: top;\n    }\n\n    .dataframe thead th {\n        text-align: right;\n    }\n</style>\n<table border=\"1\" class=\"dataframe\">\n  <thead>\n    <tr style=\"text-align: right;\">\n      <th></th>\n      <th>EC</th>\n      <th>Temperature</th>\n    </tr>\n  </thead>\n  <tbody>\n    <tr>\n      <th>0</th>\n      <td>0.000503</td>\n      <td>25.287106</td>\n    </tr>\n    <tr>\n      <th>1</th>\n      <td>0.000505</td>\n      <td>31.741054</td>\n    </tr>\n    <tr>\n      <th>2</th>\n      <td>0.000599</td>\n      <td>23.333759</td>\n    </tr>\n    <tr>\n      <th>3</th>\n      <td>0.001514</td>\n      <td>20.956285</td>\n    </tr>\n    <tr>\n      <th>4</th>\n      <td>0.002057</td>\n      <td>22.782496</td>\n    </tr>\n  </tbody>\n</table>\n</div>"
     },
     "execution_count": 119,
     "metadata": {},
     "output_type": "execute_result"
    }
   ],
   "source": [
    "# Extract Input Columns ( Adjusted pH, Temperature )\n",
    "X_adjusted = df[['EC', 'Temperature']]\n",
    "X_adjusted.head()"
   ],
   "metadata": {
    "collapsed": false,
    "pycharm": {
     "name": "#%%\n"
    }
   }
  },
  {
   "cell_type": "code",
   "execution_count": 120,
   "outputs": [
    {
     "data": {
      "text/plain": "   Nitrogen  Phosphorus  Pottassium        pH\n0        14          67          25  7.241152\n1        25          76          17  7.241149\n2         0          74          17  7.240988\n3        14          69          19  7.239455\n4       108          36          19  7.238567",
      "text/html": "<div>\n<style scoped>\n    .dataframe tbody tr th:only-of-type {\n        vertical-align: middle;\n    }\n\n    .dataframe tbody tr th {\n        vertical-align: top;\n    }\n\n    .dataframe thead th {\n        text-align: right;\n    }\n</style>\n<table border=\"1\" class=\"dataframe\">\n  <thead>\n    <tr style=\"text-align: right;\">\n      <th></th>\n      <th>Nitrogen</th>\n      <th>Phosphorus</th>\n      <th>Pottassium</th>\n      <th>pH</th>\n    </tr>\n  </thead>\n  <tbody>\n    <tr>\n      <th>0</th>\n      <td>14</td>\n      <td>67</td>\n      <td>25</td>\n      <td>7.241152</td>\n    </tr>\n    <tr>\n      <th>1</th>\n      <td>25</td>\n      <td>76</td>\n      <td>17</td>\n      <td>7.241149</td>\n    </tr>\n    <tr>\n      <th>2</th>\n      <td>0</td>\n      <td>74</td>\n      <td>17</td>\n      <td>7.240988</td>\n    </tr>\n    <tr>\n      <th>3</th>\n      <td>14</td>\n      <td>69</td>\n      <td>19</td>\n      <td>7.239455</td>\n    </tr>\n    <tr>\n      <th>4</th>\n      <td>108</td>\n      <td>36</td>\n      <td>19</td>\n      <td>7.238567</td>\n    </tr>\n  </tbody>\n</table>\n</div>"
     },
     "execution_count": 120,
     "metadata": {},
     "output_type": "execute_result"
    }
   ],
   "source": [
    "# Extract Output Columns ( EC )\n",
    "y_adjusted = df.drop(['EC', 'Temperature'], 1)\n",
    "y_adjusted.head()"
   ],
   "metadata": {
    "collapsed": false,
    "pycharm": {
     "name": "#%%\n"
    }
   }
  },
  {
   "cell_type": "code",
   "execution_count": 121,
   "outputs": [],
   "source": [
    "# Extract Input Columns ( Original pH, Temperature )\n",
    "# X_original = df[['pH', 'Temperature']]\n",
    "# X_original.head()\n",
    "#"
   ],
   "metadata": {
    "collapsed": false,
    "pycharm": {
     "name": "#%%\n"
    }
   }
  },
  {
   "cell_type": "code",
   "execution_count": 122,
   "outputs": [],
   "source": [
    "# # Extract Output Columns ( EC )\n",
    "# y_original = df[['EC']]\n",
    "# y_original.head()"
   ],
   "metadata": {
    "collapsed": false,
    "pycharm": {
     "name": "#%%\n"
    }
   }
  },
  {
   "cell_type": "code",
   "execution_count": 123,
   "outputs": [],
   "source": [
    "# Split Train & Test Data For Both Adjusted & Original Values\n",
    "X_adjusted_train, X_adjusted_test, y_adjusted_train, y_adjusted_test = train_test_split(X_adjusted, y_adjusted, random_state=1)\n",
    "# X_original_train, X_original_test, y_original_train, y_original_test = train_test_split(X_original, y_original, random_state=1)\n",
    "# print(len(X_adjusted_train), len(y_adjusted_train))\n",
    "# y_adjusted_train = y_adjusted_train.values.ravel()\n",
    "# y_adjusted_test = y_adjusted_test.values.ravel()\n",
    "\n",
    "# y_original_train = y_original_train.values.ravel()\n",
    "# y_original_test = y_original_test.values.ravel()"
   ],
   "metadata": {
    "collapsed": false,
    "pycharm": {
     "name": "#%%\n"
    }
   }
  },
  {
   "cell_type": "code",
   "execution_count": 124,
   "outputs": [
    {
     "name": "stdout",
     "output_type": "stream",
     "text": [
      "1618 1618\n"
     ]
    }
   ],
   "source": [
    "print(len(X_adjusted_train), len(y_adjusted_train))\n",
    "# Fit Two Models With Both Original & Adjusted Data\n",
    "adjusted_data_model = MLPRegressor(random_state=1, max_iter=1000, activation='relu').fit(X_adjusted_train, y_adjusted_train)\n",
    "# original_data_model = MLPRegressor(random_state=1, max_iter=1000, activation='relu', hidden_layer_sizes=(100, 50, 50)).fit(X_original_train, y_original_train)"
   ],
   "metadata": {
    "collapsed": false,
    "pycharm": {
     "name": "#%%\n"
    }
   }
  },
  {
   "cell_type": "code",
   "execution_count": 125,
   "outputs": [],
   "source": [
    "# Generate Losses For Both Adjusted & Original Models\n",
    "adjusted_data_model_loss = adjusted_data_model.loss_curve_\n",
    "# original_data_model_loss = original_data_model.loss_curve_\n",
    "\n",
    "adjusted_data_model_iteration = list(range(1, len(adjusted_data_model_loss) + 1))\n",
    "# original_data_model_iteration = list(range(1, len(original_data_model_loss) + 1))"
   ],
   "metadata": {
    "collapsed": false,
    "pycharm": {
     "name": "#%%\n"
    }
   }
  },
  {
   "cell_type": "code",
   "execution_count": 126,
   "outputs": [
    {
     "data": {
      "text/plain": "<Figure size 432x288 with 1 Axes>",
      "image/png": "[encoded data removed]"
     },
     "metadata": {},
     "output_type": "display_data"
    }
   ],
   "source": [
    "# Adjusted Data Model Loss Curve\n",
    "plt.plot(adjusted_data_model_iteration, adjusted_data_model_loss)\n",
    "plt.title('Adjusted Data Model Loss Curve')\n",
    "plt.xlabel('Iteration')\n",
    "plt.ylabel('Loss')\n",
    "plt.show()\n",
    "\n",
    "# Original Data Model Loss Curve\n",
    "# plt.plot(original_data_model_iteration, original_data_model_loss)\n",
    "# plt.title('Original Data Model Loss Curve')\n",
    "# plt.xlabel('Iteration')\n",
    "# plt.ylabel('Loss')\n",
    "# plt.show()"
   ],
   "metadata": {
    "collapsed": false,
    "pycharm": {
     "name": "#%%\n"
    }
   }
  },
  {
   "cell_type": "code",
   "execution_count": 127,
   "outputs": [
    {
     "name": "stdout",
     "output_type": "stream",
     "text": [
      "Adjusted Data Model Score:  0.10966224474482036\n"
     ]
    }
   ],
   "source": [
    "# Checking The R2 Score Of Both Models\n",
    "adjusted_data_model_score = adjusted_data_model.score(X_adjusted_test, y_adjusted_test)\n",
    "# original_data_model_score = original_data_model.score(X_original_test, y_original_test)\n",
    "\n",
    "print('Adjusted Data Model Score: ', adjusted_data_model_score)\n",
    "# print('Original Data Model Score: ', original_data_model_score)"
   ],
   "metadata": {
    "collapsed": false,
    "pycharm": {
     "name": "#%%\n"
    }
   }
  },
  {
   "cell_type": "code",
   "execution_count": 128,
   "outputs": [
    {
     "data": {
      "text/plain": "['C:/Users/mwaqa/Desktop/FYP-Soil-Analysis/Models/NPK Model.h5']"
     },
     "execution_count": 128,
     "metadata": {},
     "output_type": "execute_result"
    }
   ],
   "source": [
    "# Saving The Models\n",
    "joblib.dump(adjusted_data_model, 'C:/Users/mwaqa/Desktop/FYP-Soil-Analysis/Models/NPK Model.h5')\n",
    "# joblib.dump(original_data_model, 'C:/Users/mwaqa/Desktop/FYP-Soil-Analysis/Models/EC - pH Original Data Model.h5')\n"
   ],
   "metadata": {
    "collapsed": false,
    "pycharm": {
     "name": "#%%\n"
    }
   }
  }
 ],
 "metadata": {
  "kernelspec": {
   "display_name": "Python 3",
   "language": "python",
   "name": "python3"
  },
  "language_info": {
   "codemirror_mode": {
    "name": "ipython",
    "version": 2
   },
   "file_extension": ".py",
   "mimetype": "text/x-python",
   "name": "python",
   "nbconvert_exporter": "python",
   "pygments_lexer": "ipython2",
   "version": "2.7.6"
  }
 },
 "nbformat": 4,
 "nbformat_minor": 0
}