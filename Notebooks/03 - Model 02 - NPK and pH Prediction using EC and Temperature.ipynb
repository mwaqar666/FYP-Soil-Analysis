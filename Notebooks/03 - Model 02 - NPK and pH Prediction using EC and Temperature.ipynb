{
 "cells": [
  {
   "cell_type": "code",
   "execution_count": null,
   "metadata": {
    "collapsed": true
   },
   "outputs": [],
   "source": [
    "# Import Libraries\n",
    "import joblib\n",
    "import pandas as pd\n",
    "from matplotlib import pyplot as plt\n",
    "from sklearn.model_selection import train_test_split\n",
    "from sklearn.preprocessing import MinMaxScaler, StandardScaler\n",
    "from sklearn.neural_network import MLPRegressor\n",
    "\n",
    "plt.style.use({'figure.facecolor':'white'})"
   ]
  },
  {
   "cell_type": "code",
   "execution_count": null,
   "outputs": [],
   "source": [
    "# Read CSV\n",
    "df = pd.read_csv('C:/Users/mwaqa/Desktop/FYP-Soil-Analysis/Data/Manual Readings of pH, EC and Temperature.csv').drop(['ppm'], 1)\n",
    "df.head()"
   ],
   "metadata": {
    "collapsed": false,
    "pycharm": {
     "name": "#%%\n"
    }
   }
  },
  {
   "cell_type": "code",
   "execution_count": null,
   "outputs": [],
   "source": [
    "df.describe()"
   ],
   "metadata": {
    "collapsed": false,
    "pycharm": {
     "name": "#%%\n"
    }
   }
  },
  {
   "cell_type": "code",
   "execution_count": null,
   "outputs": [],
   "source": [
    "scaler = MinMaxScaler(feature_range=(0, 3))\n",
    "scaled_data = scaler.fit_transform(df.drop(['EC'], 1))\n",
    "df = pd.DataFrame({'Temperature': scaled_data[:, 0], 'pH': scaled_data[:, 1], 'Adjusted pH': scaled_data[:, 2], 'EC': df['EC']})"
   ],
   "metadata": {
    "collapsed": false,
    "pycharm": {
     "name": "#%%\n"
    }
   }
  },
  {
   "cell_type": "code",
   "execution_count": null,
   "outputs": [],
   "source": [
    "df.describe()"
   ],
   "metadata": {
    "collapsed": false,
    "pycharm": {
     "name": "#%%\n"
    }
   }
  },
  {
   "cell_type": "code",
   "execution_count": null,
   "outputs": [],
   "source": [
    "EC, pH, adjusted_pH = df[['EC']], df[['pH']], df[['Adjusted pH']]\n",
    "\n",
    "# Plot between pH and EC\n",
    "plt.scatter(pH, EC)\n",
    "plt.title('pH - EC')\n",
    "plt.xlabel('pH')\n",
    "plt.ylabel('EC')\n",
    "plt.show()\n",
    "\n",
    "# Plot between Adjusted pH and EC\n",
    "plt.scatter(adjusted_pH, EC)\n",
    "plt.title('Adjusted pH - EC')\n",
    "plt.xlabel('Adjusted pH')\n",
    "plt.ylabel('EC')\n",
    "plt.show()"
   ],
   "metadata": {
    "collapsed": false,
    "pycharm": {
     "name": "#%%\n"
    }
   }
  },
  {
   "cell_type": "code",
   "execution_count": null,
   "outputs": [],
   "source": [
    "# Extract Input Columns ( Adjusted pH, Temperature )\n",
    "X_adjusted = df[['Adjusted pH', 'Temperature']]\n",
    "X_adjusted.head()"
   ],
   "metadata": {
    "collapsed": false,
    "pycharm": {
     "name": "#%%\n"
    }
   }
  },
  {
   "cell_type": "code",
   "execution_count": null,
   "outputs": [],
   "source": [
    "# Extract Output Columns ( EC )\n",
    "y_adjusted = df[['EC']]\n",
    "y_adjusted.head()"
   ],
   "metadata": {
    "collapsed": false,
    "pycharm": {
     "name": "#%%\n"
    }
   }
  },
  {
   "cell_type": "code",
   "execution_count": null,
   "outputs": [],
   "source": [
    "# Extract Input Columns ( Original pH, Temperature )\n",
    "X_original = df[['pH', 'Temperature']]\n",
    "X_original.head()"
   ],
   "metadata": {
    "collapsed": false,
    "pycharm": {
     "name": "#%%\n"
    }
   }
  },
  {
   "cell_type": "code",
   "execution_count": null,
   "outputs": [],
   "source": [
    "# Extract Output Columns ( EC )\n",
    "y_original = df[['EC']]\n",
    "y_original.head()"
   ],
   "metadata": {
    "collapsed": false,
    "pycharm": {
     "name": "#%%\n"
    }
   }
  },
  {
   "cell_type": "code",
   "execution_count": null,
   "outputs": [],
   "source": [
    "# Split Train & Test Data For Both Adjusted & Original Values\n",
    "X_adjusted_train, X_adjusted_test, y_adjusted_train, y_adjusted_test = train_test_split(X_adjusted, y_adjusted, random_state=1)\n",
    "X_original_train, X_original_test, y_original_train, y_original_test = train_test_split(X_original, y_original, random_state=1)\n",
    "\n",
    "y_adjusted_train = y_adjusted_train.values.ravel()\n",
    "y_adjusted_test = y_adjusted_test.values.ravel()\n",
    "\n",
    "y_original_train = y_original_train.values.ravel()\n",
    "y_original_test = y_original_test.values.ravel()"
   ],
   "metadata": {
    "collapsed": false,
    "pycharm": {
     "name": "#%%\n"
    }
   }
  },
  {
   "cell_type": "code",
   "execution_count": null,
   "outputs": [],
   "source": [
    "# Fit Two Models With Both Original & Adjusted Data\n",
    "adjusted_data_model = MLPRegressor(random_state=1, max_iter=1000, activation='relu', hidden_layer_sizes=(100, 50, 50)).fit(X_adjusted_train, y_adjusted_train)\n",
    "original_data_model = MLPRegressor(random_state=1, max_iter=1000, activation='relu', hidden_layer_sizes=(100, 50, 50)).fit(X_original_train, y_original_train)"
   ],
   "metadata": {
    "collapsed": false,
    "pycharm": {
     "name": "#%%\n"
    }
   }
  },
  {
   "cell_type": "code",
   "execution_count": null,
   "outputs": [],
   "source": [
    "# Generate Losses For Both Adjusted & Original Models\n",
    "adjusted_data_model_loss = adjusted_data_model.loss_curve_\n",
    "original_data_model_loss = original_data_model.loss_curve_\n",
    "\n",
    "adjusted_data_model_iteration = list(range(1, len(adjusted_data_model_loss) + 1))\n",
    "original_data_model_iteration = list(range(1, len(original_data_model_loss) + 1))"
   ],
   "metadata": {
    "collapsed": false,
    "pycharm": {
     "name": "#%%\n"
    }
   }
  },
  {
   "cell_type": "code",
   "execution_count": null,
   "outputs": [],
   "source": [
    "# Adjusted Data Model Loss Curve\n",
    "plt.plot(adjusted_data_model_iteration, adjusted_data_model_loss)\n",
    "plt.title('Adjusted Data Model Loss Curve')\n",
    "plt.xlabel('Iteration')\n",
    "plt.ylabel('Loss')\n",
    "plt.show()\n",
    "\n",
    "# Original Data Model Loss Curve\n",
    "plt.plot(original_data_model_iteration, original_data_model_loss)\n",
    "plt.title('Original Data Model Loss Curve')\n",
    "plt.xlabel('Iteration')\n",
    "plt.ylabel('Loss')\n",
    "plt.show()"
   ],
   "metadata": {
    "collapsed": false,
    "pycharm": {
     "name": "#%%\n"
    }
   }
  },
  {
   "cell_type": "code",
   "execution_count": null,
   "outputs": [],
   "source": [
    "# Checking The R2 Score Of Both Models\n",
    "adjusted_data_model_score = adjusted_data_model.score(X_adjusted_test, y_adjusted_test)\n",
    "original_data_model_score = original_data_model.score(X_original_test, y_original_test)\n",
    "\n",
    "print('Adjusted Data Model Score: ', adjusted_data_model_score)\n",
    "print('Original Data Model Score: ', original_data_model_score)"
   ],
   "metadata": {
    "collapsed": false,
    "pycharm": {
     "name": "#%%\n"
    }
   }
  },
  {
   "cell_type": "code",
   "execution_count": null,
   "outputs": [],
   "source": [
    "# Saving The Models\n",
    "joblib.dump(adjusted_data_model, 'C:/Users/mwaqa/Desktop/FYP-Soil-Analysis/Models/EC - pH Adjusted Data Model.h5')\n",
    "joblib.dump(original_data_model, 'C:/Users/mwaqa/Desktop/FYP-Soil-Analysis/Models/EC - pH Original Data Model.h5')\n"
   ],
   "metadata": {
    "collapsed": false,
    "pycharm": {
     "name": "#%%\n"
    }
   }
  }
 ],
 "metadata": {
  "kernelspec": {
   "display_name": "Python 3",
   "language": "python",
   "name": "python3"
  },
  "language_info": {
   "codemirror_mode": {
    "name": "ipython",
    "version": 2
   },
   "file_extension": ".py",
   "mimetype": "text/x-python",
   "name": "python",
   "nbconvert_exporter": "python",
   "pygments_lexer": "ipython2",
   "version": "2.7.6"
  }
 },
 "nbformat": 4,
 "nbformat_minor": 0
}