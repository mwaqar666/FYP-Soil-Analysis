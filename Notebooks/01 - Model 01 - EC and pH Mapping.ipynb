{
 "cells": [
  {
   "cell_type": "code",
   "source": [
    "# Import Libraries\n",
    "import joblib\n",
    "import pandas as pd\n",
    "from matplotlib import pyplot as plt\n",
    "from sklearn.model_selection import train_test_split\n",
    "from sklearn.preprocessing import MinMaxScaler, StandardScaler\n",
    "from sklearn.neural_network import MLPRegressor\n",
    "\n",
    "plt.style.use({'figure.facecolor': 'white'})"
   ],
   "metadata": {
    "collapsed": false,
    "pycharm": {
     "name": "#%%\n"
    }
   },
   "execution_count": 292,
   "outputs": []
  },
  {
   "cell_type": "code",
   "execution_count": 293,
   "outputs": [
    {
     "data": {
      "text/plain": "   Temperature   pH  Adjusted pH    EC\n0        24.81  7.0     6.908699  0.82\n1        25.31  7.0     6.978184  0.29\n2        25.56  7.0     6.973090  0.48\n3        25.75  7.0     6.935358  0.48\n4        25.75  7.0     7.010641  0.47",
      "text/html": "<div>\n<style scoped>\n    .dataframe tbody tr th:only-of-type {\n        vertical-align: middle;\n    }\n\n    .dataframe tbody tr th {\n        vertical-align: top;\n    }\n\n    .dataframe thead th {\n        text-align: right;\n    }\n</style>\n<table border=\"1\" class=\"dataframe\">\n  <thead>\n    <tr style=\"text-align: right;\">\n      <th></th>\n      <th>Temperature</th>\n      <th>pH</th>\n      <th>Adjusted pH</th>\n      <th>EC</th>\n    </tr>\n  </thead>\n  <tbody>\n    <tr>\n      <th>0</th>\n      <td>24.81</td>\n      <td>7.0</td>\n      <td>6.908699</td>\n      <td>0.82</td>\n    </tr>\n    <tr>\n      <th>1</th>\n      <td>25.31</td>\n      <td>7.0</td>\n      <td>6.978184</td>\n      <td>0.29</td>\n    </tr>\n    <tr>\n      <th>2</th>\n      <td>25.56</td>\n      <td>7.0</td>\n      <td>6.973090</td>\n      <td>0.48</td>\n    </tr>\n    <tr>\n      <th>3</th>\n      <td>25.75</td>\n      <td>7.0</td>\n      <td>6.935358</td>\n      <td>0.48</td>\n    </tr>\n    <tr>\n      <th>4</th>\n      <td>25.75</td>\n      <td>7.0</td>\n      <td>7.010641</td>\n      <td>0.47</td>\n    </tr>\n  </tbody>\n</table>\n</div>"
     },
     "execution_count": 293,
     "metadata": {},
     "output_type": "execute_result"
    }
   ],
   "source": [
    "# Read CSV\n",
    "df = pd.read_csv('C:/Users/mwaqa/Desktop/FYP-Soil-Analysis/Data/Manual Readings of pH, EC and Temperature.csv').drop(['ppm'], 1)\n",
    "df.head()"
   ],
   "metadata": {
    "collapsed": false,
    "pycharm": {
     "name": "#%%\n"
    }
   }
  },
  {
   "cell_type": "code",
   "execution_count": 294,
   "outputs": [
    {
     "data": {
      "text/plain": "       Temperature          pH  Adjusted pH          EC\ncount   252.000000  252.000000   252.000000  252.000000\nmean     25.408373    6.366667     6.346189    1.711310\nstd       0.429798    0.390117     0.384282    0.670198\nmin      23.870000    5.800000     5.688092    0.270000\n25%      25.120000    6.000000     6.034491    1.420000\n50%      25.440000    6.500000     6.377082    1.810000\n75%      25.690000    6.600000     6.611272    2.110000\nmax      26.250000    7.000000     7.066736    2.630000",
      "text/html": "<div>\n<style scoped>\n    .dataframe tbody tr th:only-of-type {\n        vertical-align: middle;\n    }\n\n    .dataframe tbody tr th {\n        vertical-align: top;\n    }\n\n    .dataframe thead th {\n        text-align: right;\n    }\n</style>\n<table border=\"1\" class=\"dataframe\">\n  <thead>\n    <tr style=\"text-align: right;\">\n      <th></th>\n      <th>Temperature</th>\n      <th>pH</th>\n      <th>Adjusted pH</th>\n      <th>EC</th>\n    </tr>\n  </thead>\n  <tbody>\n    <tr>\n      <th>count</th>\n      <td>252.000000</td>\n      <td>252.000000</td>\n      <td>252.000000</td>\n      <td>252.000000</td>\n    </tr>\n    <tr>\n      <th>mean</th>\n      <td>25.408373</td>\n      <td>6.366667</td>\n      <td>6.346189</td>\n      <td>1.711310</td>\n    </tr>\n    <tr>\n      <th>std</th>\n      <td>0.429798</td>\n      <td>0.390117</td>\n      <td>0.384282</td>\n      <td>0.670198</td>\n    </tr>\n    <tr>\n      <th>min</th>\n      <td>23.870000</td>\n      <td>5.800000</td>\n      <td>5.688092</td>\n      <td>0.270000</td>\n    </tr>\n    <tr>\n      <th>25%</th>\n      <td>25.120000</td>\n      <td>6.000000</td>\n      <td>6.034491</td>\n      <td>1.420000</td>\n    </tr>\n    <tr>\n      <th>50%</th>\n      <td>25.440000</td>\n      <td>6.500000</td>\n      <td>6.377082</td>\n      <td>1.810000</td>\n    </tr>\n    <tr>\n      <th>75%</th>\n      <td>25.690000</td>\n      <td>6.600000</td>\n      <td>6.611272</td>\n      <td>2.110000</td>\n    </tr>\n    <tr>\n      <th>max</th>\n      <td>26.250000</td>\n      <td>7.000000</td>\n      <td>7.066736</td>\n      <td>2.630000</td>\n    </tr>\n  </tbody>\n</table>\n</div>"
     },
     "execution_count": 294,
     "metadata": {},
     "output_type": "execute_result"
    }
   ],
   "source": [
    "df.describe()"
   ],
   "metadata": {
    "collapsed": false,
    "pycharm": {
     "name": "#%%\n"
    }
   }
  },
  {
   "cell_type": "code",
   "execution_count": 295,
   "outputs": [
    {
     "data": {
      "text/plain": "   Temperature   pH  Adjusted pH        EC\n0     0.394958  1.0     0.885367  0.233051\n1     0.605042  1.0     0.935769  0.008475\n2     0.710084  1.0     0.932074  0.088983\n3     0.789916  1.0     0.904705  0.088983\n4     0.789916  1.0     0.959311  0.084746",
      "text/html": "<div>\n<style scoped>\n    .dataframe tbody tr th:only-of-type {\n        vertical-align: middle;\n    }\n\n    .dataframe tbody tr th {\n        vertical-align: top;\n    }\n\n    .dataframe thead th {\n        text-align: right;\n    }\n</style>\n<table border=\"1\" class=\"dataframe\">\n  <thead>\n    <tr style=\"text-align: right;\">\n      <th></th>\n      <th>Temperature</th>\n      <th>pH</th>\n      <th>Adjusted pH</th>\n      <th>EC</th>\n    </tr>\n  </thead>\n  <tbody>\n    <tr>\n      <th>0</th>\n      <td>0.394958</td>\n      <td>1.0</td>\n      <td>0.885367</td>\n      <td>0.233051</td>\n    </tr>\n    <tr>\n      <th>1</th>\n      <td>0.605042</td>\n      <td>1.0</td>\n      <td>0.935769</td>\n      <td>0.008475</td>\n    </tr>\n    <tr>\n      <th>2</th>\n      <td>0.710084</td>\n      <td>1.0</td>\n      <td>0.932074</td>\n      <td>0.088983</td>\n    </tr>\n    <tr>\n      <th>3</th>\n      <td>0.789916</td>\n      <td>1.0</td>\n      <td>0.904705</td>\n      <td>0.088983</td>\n    </tr>\n    <tr>\n      <th>4</th>\n      <td>0.789916</td>\n      <td>1.0</td>\n      <td>0.959311</td>\n      <td>0.084746</td>\n    </tr>\n  </tbody>\n</table>\n</div>"
     },
     "execution_count": 295,
     "metadata": {},
     "output_type": "execute_result"
    }
   ],
   "source": [
    "df['Temperature'] = (df['Temperature'] - df['Temperature'].min()) / (df['Temperature'].max() - df['Temperature'].min())\n",
    "# df['Temperature'] = (df['Temperature'] - df['Temperature'].mean()) / (df['Temperature'].max() - df['Temperature'].min())\n",
    "#\n",
    "df['pH'] = (df['pH'] - df['pH'].min()) / (df['pH'].max() - df['pH'].min())\n",
    "# df['pH'] = (df['pH'] - df['pH'].mean()) / (df['pH'].max() - df['pH'].min())\n",
    "#\n",
    "df['Adjusted pH'] = (df['Adjusted pH'] - df['Adjusted pH'].min()) / (df['Adjusted pH'].max() - df['Adjusted pH'].min())\n",
    "# df['Adjusted pH'] = (df['Adjusted pH'] - df['Adjusted pH'].mean()) / (df['Adjusted pH'].max() - df['Adjusted pH'].min())\n",
    "#\n",
    "df['EC'] = (df['EC'] - df['EC'].min()) / (df['EC'].max() - df['EC'].min())\n",
    "# df['EC'] = (df['EC'] - df['EC'].mean()) / (df['EC'].max() - df['EC'].min())\n",
    "\n",
    "# print(df['Temperature'])\n",
    "# scaler = MinMaxScaler(feature_range=(0, 3))\n",
    "# scaled_data = scaler.fit_transform(df.drop(['EC'], 1))\n",
    "# df = pd.DataFrame({'Temperature': scaled_data[:, 0], 'pH': scaled_data[:, 1], 'Adjusted pH': scaled_data[:, 2], 'EC': df['EC']})\n",
    "df.head()"
   ],
   "metadata": {
    "collapsed": false,
    "pycharm": {
     "name": "#%%\n"
    }
   }
  },
  {
   "cell_type": "code",
   "execution_count": 296,
   "outputs": [
    {
     "data": {
      "text/plain": "       Temperature          pH  Adjusted pH          EC\ncount   252.000000  252.000000   252.000000  252.000000\nmean      0.646375    0.472222     0.477351    0.610724\nstd       0.180587    0.325097     0.278739    0.283982\nmin       0.000000    0.000000     0.000000    0.000000\n25%       0.525210    0.166667     0.251261    0.487288\n50%       0.659664    0.583333     0.499759    0.652542\n75%       0.764706    0.666667     0.669629    0.779661\nmax       1.000000    1.000000     1.000000    1.000000",
      "text/html": "<div>\n<style scoped>\n    .dataframe tbody tr th:only-of-type {\n        vertical-align: middle;\n    }\n\n    .dataframe tbody tr th {\n        vertical-align: top;\n    }\n\n    .dataframe thead th {\n        text-align: right;\n    }\n</style>\n<table border=\"1\" class=\"dataframe\">\n  <thead>\n    <tr style=\"text-align: right;\">\n      <th></th>\n      <th>Temperature</th>\n      <th>pH</th>\n      <th>Adjusted pH</th>\n      <th>EC</th>\n    </tr>\n  </thead>\n  <tbody>\n    <tr>\n      <th>count</th>\n      <td>252.000000</td>\n      <td>252.000000</td>\n      <td>252.000000</td>\n      <td>252.000000</td>\n    </tr>\n    <tr>\n      <th>mean</th>\n      <td>0.646375</td>\n      <td>0.472222</td>\n      <td>0.477351</td>\n      <td>0.610724</td>\n    </tr>\n    <tr>\n      <th>std</th>\n      <td>0.180587</td>\n      <td>0.325097</td>\n      <td>0.278739</td>\n      <td>0.283982</td>\n    </tr>\n    <tr>\n      <th>min</th>\n      <td>0.000000</td>\n      <td>0.000000</td>\n      <td>0.000000</td>\n      <td>0.000000</td>\n    </tr>\n    <tr>\n      <th>25%</th>\n      <td>0.525210</td>\n      <td>0.166667</td>\n      <td>0.251261</td>\n      <td>0.487288</td>\n    </tr>\n    <tr>\n      <th>50%</th>\n      <td>0.659664</td>\n      <td>0.583333</td>\n      <td>0.499759</td>\n      <td>0.652542</td>\n    </tr>\n    <tr>\n      <th>75%</th>\n      <td>0.764706</td>\n      <td>0.666667</td>\n      <td>0.669629</td>\n      <td>0.779661</td>\n    </tr>\n    <tr>\n      <th>max</th>\n      <td>1.000000</td>\n      <td>1.000000</td>\n      <td>1.000000</td>\n      <td>1.000000</td>\n    </tr>\n  </tbody>\n</table>\n</div>"
     },
     "execution_count": 296,
     "metadata": {},
     "output_type": "execute_result"
    }
   ],
   "source": [
    "df.describe()"
   ],
   "metadata": {
    "collapsed": false,
    "pycharm": {
     "name": "#%%\n"
    }
   }
  },
  {
   "cell_type": "code",
   "execution_count": 297,
   "outputs": [
    {
     "data": {
      "text/plain": "<Figure size 432x288 with 1 Axes>",
      "image/png": "[encoded data removed]"
     },
     "metadata": {},
     "output_type": "display_data"
    },
    {
     "data": {
      "text/plain": "<Figure size 432x288 with 1 Axes>",
      "image/png": "[encoded data removed]"
     },
     "metadata": {},
     "output_type": "display_data"
    }
   ],
   "source": [
    "EC, pH, adjusted_pH = df[['EC']], df[['pH']], df[['Adjusted pH']]\n",
    "\n",
    "# Plot between pH and EC\n",
    "plt.scatter(pH, EC)\n",
    "plt.title('pH - EC')\n",
    "plt.xlabel('pH')\n",
    "plt.ylabel('EC')\n",
    "plt.show()\n",
    "\n",
    "# Plot between Adjusted pH and EC\n",
    "plt.scatter(adjusted_pH, EC)\n",
    "plt.title('Adjusted pH - EC')\n",
    "plt.xlabel('Adjusted pH')\n",
    "plt.ylabel('EC')\n",
    "plt.show()"
   ],
   "metadata": {
    "collapsed": false,
    "pycharm": {
     "name": "#%%\n"
    }
   }
  },
  {
   "cell_type": "code",
   "execution_count": 298,
   "outputs": [
    {
     "data": {
      "text/plain": "   Adjusted pH  Temperature\n0     0.885367     0.394958\n1     0.935769     0.605042\n2     0.932074     0.710084\n3     0.904705     0.789916\n4     0.959311     0.789916",
      "text/html": "<div>\n<style scoped>\n    .dataframe tbody tr th:only-of-type {\n        vertical-align: middle;\n    }\n\n    .dataframe tbody tr th {\n        vertical-align: top;\n    }\n\n    .dataframe thead th {\n        text-align: right;\n    }\n</style>\n<table border=\"1\" class=\"dataframe\">\n  <thead>\n    <tr style=\"text-align: right;\">\n      <th></th>\n      <th>Adjusted pH</th>\n      <th>Temperature</th>\n    </tr>\n  </thead>\n  <tbody>\n    <tr>\n      <th>0</th>\n      <td>0.885367</td>\n      <td>0.394958</td>\n    </tr>\n    <tr>\n      <th>1</th>\n      <td>0.935769</td>\n      <td>0.605042</td>\n    </tr>\n    <tr>\n      <th>2</th>\n      <td>0.932074</td>\n      <td>0.710084</td>\n    </tr>\n    <tr>\n      <th>3</th>\n      <td>0.904705</td>\n      <td>0.789916</td>\n    </tr>\n    <tr>\n      <th>4</th>\n      <td>0.959311</td>\n      <td>0.789916</td>\n    </tr>\n  </tbody>\n</table>\n</div>"
     },
     "execution_count": 298,
     "metadata": {},
     "output_type": "execute_result"
    }
   ],
   "source": [
    "# Extract Input Columns ( Adjusted pH, Temperature )\n",
    "X_adjusted = df[['Adjusted pH', 'Temperature']]\n",
    "X_adjusted.head()"
   ],
   "metadata": {
    "collapsed": false,
    "pycharm": {
     "name": "#%%\n"
    }
   }
  },
  {
   "cell_type": "code",
   "execution_count": 299,
   "outputs": [
    {
     "data": {
      "text/plain": "         EC\n0  0.233051\n1  0.008475\n2  0.088983\n3  0.088983\n4  0.084746",
      "text/html": "<div>\n<style scoped>\n    .dataframe tbody tr th:only-of-type {\n        vertical-align: middle;\n    }\n\n    .dataframe tbody tr th {\n        vertical-align: top;\n    }\n\n    .dataframe thead th {\n        text-align: right;\n    }\n</style>\n<table border=\"1\" class=\"dataframe\">\n  <thead>\n    <tr style=\"text-align: right;\">\n      <th></th>\n      <th>EC</th>\n    </tr>\n  </thead>\n  <tbody>\n    <tr>\n      <th>0</th>\n      <td>0.233051</td>\n    </tr>\n    <tr>\n      <th>1</th>\n      <td>0.008475</td>\n    </tr>\n    <tr>\n      <th>2</th>\n      <td>0.088983</td>\n    </tr>\n    <tr>\n      <th>3</th>\n      <td>0.088983</td>\n    </tr>\n    <tr>\n      <th>4</th>\n      <td>0.084746</td>\n    </tr>\n  </tbody>\n</table>\n</div>"
     },
     "execution_count": 299,
     "metadata": {},
     "output_type": "execute_result"
    }
   ],
   "source": [
    "# Extract Output Columns ( EC )\n",
    "y_adjusted = df[['EC']]\n",
    "y_adjusted.head()"
   ],
   "metadata": {
    "collapsed": false,
    "pycharm": {
     "name": "#%%\n"
    }
   }
  },
  {
   "cell_type": "code",
   "execution_count": 300,
   "outputs": [
    {
     "data": {
      "text/plain": "    pH  Temperature\n0  1.0     0.394958\n1  1.0     0.605042\n2  1.0     0.710084\n3  1.0     0.789916\n4  1.0     0.789916",
      "text/html": "<div>\n<style scoped>\n    .dataframe tbody tr th:only-of-type {\n        vertical-align: middle;\n    }\n\n    .dataframe tbody tr th {\n        vertical-align: top;\n    }\n\n    .dataframe thead th {\n        text-align: right;\n    }\n</style>\n<table border=\"1\" class=\"dataframe\">\n  <thead>\n    <tr style=\"text-align: right;\">\n      <th></th>\n      <th>pH</th>\n      <th>Temperature</th>\n    </tr>\n  </thead>\n  <tbody>\n    <tr>\n      <th>0</th>\n      <td>1.0</td>\n      <td>0.394958</td>\n    </tr>\n    <tr>\n      <th>1</th>\n      <td>1.0</td>\n      <td>0.605042</td>\n    </tr>\n    <tr>\n      <th>2</th>\n      <td>1.0</td>\n      <td>0.710084</td>\n    </tr>\n    <tr>\n      <th>3</th>\n      <td>1.0</td>\n      <td>0.789916</td>\n    </tr>\n    <tr>\n      <th>4</th>\n      <td>1.0</td>\n      <td>0.789916</td>\n    </tr>\n  </tbody>\n</table>\n</div>"
     },
     "execution_count": 300,
     "metadata": {},
     "output_type": "execute_result"
    }
   ],
   "source": [
    "# Extract Input Columns ( Original pH, Temperature )\n",
    "X_original = df[['pH', 'Temperature']]\n",
    "X_original.head()"
   ],
   "metadata": {
    "collapsed": false,
    "pycharm": {
     "name": "#%%\n"
    }
   }
  },
  {
   "cell_type": "code",
   "execution_count": 301,
   "outputs": [
    {
     "data": {
      "text/plain": "         EC\n0  0.233051\n1  0.008475\n2  0.088983\n3  0.088983\n4  0.084746",
      "text/html": "<div>\n<style scoped>\n    .dataframe tbody tr th:only-of-type {\n        vertical-align: middle;\n    }\n\n    .dataframe tbody tr th {\n        vertical-align: top;\n    }\n\n    .dataframe thead th {\n        text-align: right;\n    }\n</style>\n<table border=\"1\" class=\"dataframe\">\n  <thead>\n    <tr style=\"text-align: right;\">\n      <th></th>\n      <th>EC</th>\n    </tr>\n  </thead>\n  <tbody>\n    <tr>\n      <th>0</th>\n      <td>0.233051</td>\n    </tr>\n    <tr>\n      <th>1</th>\n      <td>0.008475</td>\n    </tr>\n    <tr>\n      <th>2</th>\n      <td>0.088983</td>\n    </tr>\n    <tr>\n      <th>3</th>\n      <td>0.088983</td>\n    </tr>\n    <tr>\n      <th>4</th>\n      <td>0.084746</td>\n    </tr>\n  </tbody>\n</table>\n</div>"
     },
     "execution_count": 301,
     "metadata": {},
     "output_type": "execute_result"
    }
   ],
   "source": [
    "# Extract Output Columns ( EC )\n",
    "y_original = df[['EC']]\n",
    "y_original.head()"
   ],
   "metadata": {
    "collapsed": false,
    "pycharm": {
     "name": "#%%\n"
    }
   }
  },
  {
   "cell_type": "code",
   "execution_count": 302,
   "outputs": [],
   "source": [
    "# Split Train & Test Data For Both Adjusted & Original Values\n",
    "X_adjusted_train, X_adjusted_test, y_adjusted_train, y_adjusted_test = train_test_split(X_adjusted, y_adjusted, random_state=1)\n",
    "X_original_train, X_original_test, y_original_train, y_original_test = train_test_split(X_original, y_original, random_state=1)\n",
    "\n",
    "y_adjusted_train = y_adjusted_train.values.ravel()\n",
    "y_adjusted_test = y_adjusted_test.values.ravel()\n",
    "\n",
    "y_original_train = y_original_train.values.ravel()\n",
    "y_original_test = y_original_test.values.ravel()"
   ],
   "metadata": {
    "collapsed": false,
    "pycharm": {
     "name": "#%%\n"
    }
   }
  },
  {
   "cell_type": "code",
   "execution_count": 303,
   "outputs": [],
   "source": [
    "# Fit Two Models With Both Original & Adjusted Data\n",
    "adjusted_data_model = MLPRegressor(random_state=1, max_iter=500, activation='relu', hidden_layer_sizes=(500, 250)).fit(X_adjusted_train, y_adjusted_train)\n",
    "original_data_model = MLPRegressor(random_state=1, max_iter=500, activation='relu', hidden_layer_sizes=(500, 250)).fit(X_original_train, y_original_train)"
   ],
   "metadata": {
    "collapsed": false,
    "pycharm": {
     "name": "#%%\n"
    }
   }
  },
  {
   "cell_type": "code",
   "execution_count": 304,
   "outputs": [],
   "source": [
    "# Generate Losses For Both Adjusted & Original Models\n",
    "adjusted_data_model_loss = adjusted_data_model.loss_curve_\n",
    "original_data_model_loss = original_data_model.loss_curve_\n",
    "\n",
    "adjusted_data_model_iteration = list(range(1, len(adjusted_data_model_loss) + 1))\n",
    "original_data_model_iteration = list(range(1, len(original_data_model_loss) + 1))"
   ],
   "metadata": {
    "collapsed": false,
    "pycharm": {
     "name": "#%%\n"
    }
   }
  },
  {
   "cell_type": "code",
   "execution_count": 305,
   "outputs": [
    {
     "data": {
      "text/plain": "<Figure size 432x288 with 1 Axes>",
      "image/png": "[encoded data removed]"
     },
     "metadata": {},
     "output_type": "display_data"
    },
    {
     "data": {
      "text/plain": "<Figure size 432x288 with 1 Axes>",
      "image/png": "[encoded data removed]"
     },
     "metadata": {},
     "output_type": "display_data"
    }
   ],
   "source": [
    "# Adjusted Data Model Loss Curve\n",
    "plt.plot(adjusted_data_model_iteration, adjusted_data_model_loss)\n",
    "plt.title('Adjusted Data Model Loss Curve')\n",
    "plt.xlabel('Iteration')\n",
    "plt.ylabel('Loss')\n",
    "plt.show()\n",
    "\n",
    "# Original Data Model Loss Curve\n",
    "plt.plot(original_data_model_iteration, original_data_model_loss)\n",
    "plt.title('Original Data Model Loss Curve')\n",
    "plt.xlabel('Iteration')\n",
    "plt.ylabel('Loss')\n",
    "plt.show()"
   ],
   "metadata": {
    "collapsed": false,
    "pycharm": {
     "name": "#%%\n"
    }
   }
  },
  {
   "cell_type": "code",
   "execution_count": 306,
   "outputs": [
    {
     "name": "stdout",
     "output_type": "stream",
     "text": [
      "Adjusted Data Model Score:  0.9609086690462765\n",
      "Original Data Model Score:  0.968005519851097\n"
     ]
    }
   ],
   "source": [
    "# Checking The R2 Score Of Both Models\n",
    "adjusted_data_model_score = adjusted_data_model.score(X_adjusted_test, y_adjusted_test)\n",
    "original_data_model_score = original_data_model.score(X_original_test, y_original_test)\n",
    "\n",
    "print('Adjusted Data Model Score: ', adjusted_data_model_score)\n",
    "print('Original Data Model Score: ', original_data_model_score)"
   ],
   "metadata": {
    "collapsed": false,
    "pycharm": {
     "name": "#%%\n"
    }
   }
  },
  {
   "cell_type": "code",
   "execution_count": 307,
   "outputs": [
    {
     "data": {
      "text/plain": "['C:/Users/mwaqa/Desktop/FYP-Soil-Analysis/Models/EC - pH Original Data Model.h5']"
     },
     "execution_count": 307,
     "metadata": {},
     "output_type": "execute_result"
    }
   ],
   "source": [
    "# Saving The Models\n",
    "joblib.dump(adjusted_data_model, 'C:/Users/mwaqa/Desktop/FYP-Soil-Analysis/Models/EC - pH Adjusted Data Model.h5')\n",
    "joblib.dump(original_data_model, 'C:/Users/mwaqa/Desktop/FYP-Soil-Analysis/Models/EC - pH Original Data Model.h5')\n"
   ],
   "metadata": {
    "collapsed": false,
    "pycharm": {
     "name": "#%%\n"
    }
   }
  }
 ],
 "metadata": {
  "kernelspec": {
   "display_name": "Python 3",
   "language": "python",
   "name": "python3"
  },
  "language_info": {
   "codemirror_mode": {
    "name": "ipython",
    "version": 2
   },
   "file_extension": ".py",
   "mimetype": "text/x-python",
   "name": "python",
   "nbconvert_exporter": "python",
   "pygments_lexer": "ipython2",
   "version": "2.7.6"
  }
 },
 "nbformat": 4,
 "nbformat_minor": 0
}