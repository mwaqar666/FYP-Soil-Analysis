{
 "cells": [
  {
   "cell_type": "code",
   "source": [
    "# Import Libraries\n",
    "import joblib\n",
    "import pandas as pd\n",
    "from matplotlib import pyplot as plt\n",
    "from sklearn.model_selection import train_test_split\n",
    "from sklearn.preprocessing import MinMaxScaler, StandardScaler\n",
    "from sklearn.neural_network import MLPRegressor\n",
    "\n",
    "plt.style.use({'figure.facecolor':'white'})"
   ],
   "metadata": {
    "collapsed": false,
    "pycharm": {
     "name": "#%%\n"
    }
   },
   "execution_count": 529,
   "outputs": []
  },
  {
   "cell_type": "code",
   "execution_count": 530,
   "outputs": [
    {
     "data": {
      "text/plain": "   Temperature   pH  Adjusted pH    EC\n0        24.81  7.0     6.908699  0.82\n1        25.31  7.0     6.978184  0.29\n2        25.56  7.0     6.973090  0.48\n3        25.75  7.0     6.935358  0.48\n4        25.75  7.0     7.010641  0.47",
      "text/html": "<div>\n<style scoped>\n    .dataframe tbody tr th:only-of-type {\n        vertical-align: middle;\n    }\n\n    .dataframe tbody tr th {\n        vertical-align: top;\n    }\n\n    .dataframe thead th {\n        text-align: right;\n    }\n</style>\n<table border=\"1\" class=\"dataframe\">\n  <thead>\n    <tr style=\"text-align: right;\">\n      <th></th>\n      <th>Temperature</th>\n      <th>pH</th>\n      <th>Adjusted pH</th>\n      <th>EC</th>\n    </tr>\n  </thead>\n  <tbody>\n    <tr>\n      <th>0</th>\n      <td>24.81</td>\n      <td>7.0</td>\n      <td>6.908699</td>\n      <td>0.82</td>\n    </tr>\n    <tr>\n      <th>1</th>\n      <td>25.31</td>\n      <td>7.0</td>\n      <td>6.978184</td>\n      <td>0.29</td>\n    </tr>\n    <tr>\n      <th>2</th>\n      <td>25.56</td>\n      <td>7.0</td>\n      <td>6.973090</td>\n      <td>0.48</td>\n    </tr>\n    <tr>\n      <th>3</th>\n      <td>25.75</td>\n      <td>7.0</td>\n      <td>6.935358</td>\n      <td>0.48</td>\n    </tr>\n    <tr>\n      <th>4</th>\n      <td>25.75</td>\n      <td>7.0</td>\n      <td>7.010641</td>\n      <td>0.47</td>\n    </tr>\n  </tbody>\n</table>\n</div>"
     },
     "execution_count": 530,
     "metadata": {},
     "output_type": "execute_result"
    }
   ],
   "source": [
    "# Read CSV\n",
    "df = pd.read_csv('C:/Users/mwaqa/Desktop/FYP-Soil-Analysis/Data/Manual Readings of pH, EC and Temperature.csv').drop(['ppm'], 1)\n",
    "df.head()"
   ],
   "metadata": {
    "collapsed": false,
    "pycharm": {
     "name": "#%%\n"
    }
   }
  },
  {
   "cell_type": "code",
   "execution_count": 531,
   "outputs": [
    {
     "data": {
      "text/plain": "       Temperature          pH  Adjusted pH          EC\ncount   252.000000  252.000000   252.000000  252.000000\nmean     25.408373    6.366667     6.346189    1.711310\nstd       0.429798    0.390117     0.384282    0.670198\nmin      23.870000    5.800000     5.688092    0.270000\n25%      25.120000    6.000000     6.034491    1.420000\n50%      25.440000    6.500000     6.377082    1.810000\n75%      25.690000    6.600000     6.611272    2.110000\nmax      26.250000    7.000000     7.066736    2.630000",
      "text/html": "<div>\n<style scoped>\n    .dataframe tbody tr th:only-of-type {\n        vertical-align: middle;\n    }\n\n    .dataframe tbody tr th {\n        vertical-align: top;\n    }\n\n    .dataframe thead th {\n        text-align: right;\n    }\n</style>\n<table border=\"1\" class=\"dataframe\">\n  <thead>\n    <tr style=\"text-align: right;\">\n      <th></th>\n      <th>Temperature</th>\n      <th>pH</th>\n      <th>Adjusted pH</th>\n      <th>EC</th>\n    </tr>\n  </thead>\n  <tbody>\n    <tr>\n      <th>count</th>\n      <td>252.000000</td>\n      <td>252.000000</td>\n      <td>252.000000</td>\n      <td>252.000000</td>\n    </tr>\n    <tr>\n      <th>mean</th>\n      <td>25.408373</td>\n      <td>6.366667</td>\n      <td>6.346189</td>\n      <td>1.711310</td>\n    </tr>\n    <tr>\n      <th>std</th>\n      <td>0.429798</td>\n      <td>0.390117</td>\n      <td>0.384282</td>\n      <td>0.670198</td>\n    </tr>\n    <tr>\n      <th>min</th>\n      <td>23.870000</td>\n      <td>5.800000</td>\n      <td>5.688092</td>\n      <td>0.270000</td>\n    </tr>\n    <tr>\n      <th>25%</th>\n      <td>25.120000</td>\n      <td>6.000000</td>\n      <td>6.034491</td>\n      <td>1.420000</td>\n    </tr>\n    <tr>\n      <th>50%</th>\n      <td>25.440000</td>\n      <td>6.500000</td>\n      <td>6.377082</td>\n      <td>1.810000</td>\n    </tr>\n    <tr>\n      <th>75%</th>\n      <td>25.690000</td>\n      <td>6.600000</td>\n      <td>6.611272</td>\n      <td>2.110000</td>\n    </tr>\n    <tr>\n      <th>max</th>\n      <td>26.250000</td>\n      <td>7.000000</td>\n      <td>7.066736</td>\n      <td>2.630000</td>\n    </tr>\n  </tbody>\n</table>\n</div>"
     },
     "execution_count": 531,
     "metadata": {},
     "output_type": "execute_result"
    }
   ],
   "source": [
    "df.describe()"
   ],
   "metadata": {
    "collapsed": false,
    "pycharm": {
     "name": "#%%\n"
    }
   }
  },
  {
   "cell_type": "code",
   "execution_count": 532,
   "outputs": [],
   "source": [
    "scaler = MinMaxScaler(feature_range=(0, 3))\n",
    "scaled_data = scaler.fit_transform(df.drop(['EC'], 1))\n",
    "df = pd.DataFrame({'Temperature': scaled_data[:, 0], 'pH': scaled_data[:, 1], 'Adjusted pH': scaled_data[:, 2], 'EC': df['EC']})"
   ],
   "metadata": {
    "collapsed": false,
    "pycharm": {
     "name": "#%%\n"
    }
   }
  },
  {
   "cell_type": "code",
   "execution_count": 533,
   "outputs": [
    {
     "data": {
      "text/plain": "       Temperature          pH  Adjusted pH          EC\ncount   252.000000  252.000000   252.000000  252.000000\nmean      1.939126    1.416667     1.432053    1.711310\nstd       0.541762    0.975292     0.836216    0.670198\nmin       0.000000    0.000000     0.000000    0.270000\n25%       1.575630    0.500000     0.753783    1.420000\n50%       1.978992    1.750000     1.499277    1.810000\n75%       2.294118    2.000000     2.008887    2.110000\nmax       3.000000    3.000000     3.000000    2.630000",
      "text/html": "<div>\n<style scoped>\n    .dataframe tbody tr th:only-of-type {\n        vertical-align: middle;\n    }\n\n    .dataframe tbody tr th {\n        vertical-align: top;\n    }\n\n    .dataframe thead th {\n        text-align: right;\n    }\n</style>\n<table border=\"1\" class=\"dataframe\">\n  <thead>\n    <tr style=\"text-align: right;\">\n      <th></th>\n      <th>Temperature</th>\n      <th>pH</th>\n      <th>Adjusted pH</th>\n      <th>EC</th>\n    </tr>\n  </thead>\n  <tbody>\n    <tr>\n      <th>count</th>\n      <td>252.000000</td>\n      <td>252.000000</td>\n      <td>252.000000</td>\n      <td>252.000000</td>\n    </tr>\n    <tr>\n      <th>mean</th>\n      <td>1.939126</td>\n      <td>1.416667</td>\n      <td>1.432053</td>\n      <td>1.711310</td>\n    </tr>\n    <tr>\n      <th>std</th>\n      <td>0.541762</td>\n      <td>0.975292</td>\n      <td>0.836216</td>\n      <td>0.670198</td>\n    </tr>\n    <tr>\n      <th>min</th>\n      <td>0.000000</td>\n      <td>0.000000</td>\n      <td>0.000000</td>\n      <td>0.270000</td>\n    </tr>\n    <tr>\n      <th>25%</th>\n      <td>1.575630</td>\n      <td>0.500000</td>\n      <td>0.753783</td>\n      <td>1.420000</td>\n    </tr>\n    <tr>\n      <th>50%</th>\n      <td>1.978992</td>\n      <td>1.750000</td>\n      <td>1.499277</td>\n      <td>1.810000</td>\n    </tr>\n    <tr>\n      <th>75%</th>\n      <td>2.294118</td>\n      <td>2.000000</td>\n      <td>2.008887</td>\n      <td>2.110000</td>\n    </tr>\n    <tr>\n      <th>max</th>\n      <td>3.000000</td>\n      <td>3.000000</td>\n      <td>3.000000</td>\n      <td>2.630000</td>\n    </tr>\n  </tbody>\n</table>\n</div>"
     },
     "execution_count": 533,
     "metadata": {},
     "output_type": "execute_result"
    }
   ],
   "source": [
    "df.describe()"
   ],
   "metadata": {
    "collapsed": false,
    "pycharm": {
     "name": "#%%\n"
    }
   }
  },
  {
   "cell_type": "code",
   "execution_count": 534,
   "outputs": [
    {
     "data": {
      "text/plain": "<Figure size 432x288 with 1 Axes>",
      "image/png": "[encoded data removed]"
     },
     "metadata": {},
     "output_type": "display_data"
    },
    {
     "data": {
      "text/plain": "<Figure size 432x288 with 1 Axes>",
      "image/png": "[encoded data removed]"
     },
     "metadata": {},
     "output_type": "display_data"
    }
   ],
   "source": [
    "EC, pH, adjusted_pH = df[['EC']], df[['pH']], df[['Adjusted pH']]\n",
    "\n",
    "# Plot between pH and EC\n",
    "plt.scatter(pH, EC)\n",
    "plt.title('pH - EC')\n",
    "plt.xlabel('pH')\n",
    "plt.ylabel('EC')\n",
    "plt.show()\n",
    "\n",
    "# Plot between Adjusted pH and EC\n",
    "plt.scatter(adjusted_pH, EC)\n",
    "plt.title('Adjusted pH - EC')\n",
    "plt.xlabel('Adjusted pH')\n",
    "plt.ylabel('EC')\n",
    "plt.show()"
   ],
   "metadata": {
    "collapsed": false,
    "pycharm": {
     "name": "#%%\n"
    }
   }
  },
  {
   "cell_type": "code",
   "execution_count": 535,
   "outputs": [
    {
     "data": {
      "text/plain": "   Adjusted pH  Temperature\n0     2.656102     1.184874\n1     2.807307     1.815126\n2     2.796221     2.130252\n3     2.714114     2.369748\n4     2.877934     2.369748",
      "text/html": "<div>\n<style scoped>\n    .dataframe tbody tr th:only-of-type {\n        vertical-align: middle;\n    }\n\n    .dataframe tbody tr th {\n        vertical-align: top;\n    }\n\n    .dataframe thead th {\n        text-align: right;\n    }\n</style>\n<table border=\"1\" class=\"dataframe\">\n  <thead>\n    <tr style=\"text-align: right;\">\n      <th></th>\n      <th>Adjusted pH</th>\n      <th>Temperature</th>\n    </tr>\n  </thead>\n  <tbody>\n    <tr>\n      <th>0</th>\n      <td>2.656102</td>\n      <td>1.184874</td>\n    </tr>\n    <tr>\n      <th>1</th>\n      <td>2.807307</td>\n      <td>1.815126</td>\n    </tr>\n    <tr>\n      <th>2</th>\n      <td>2.796221</td>\n      <td>2.130252</td>\n    </tr>\n    <tr>\n      <th>3</th>\n      <td>2.714114</td>\n      <td>2.369748</td>\n    </tr>\n    <tr>\n      <th>4</th>\n      <td>2.877934</td>\n      <td>2.369748</td>\n    </tr>\n  </tbody>\n</table>\n</div>"
     },
     "execution_count": 535,
     "metadata": {},
     "output_type": "execute_result"
    }
   ],
   "source": [
    "# Extract Input Columns ( Adjusted pH, Temperature )\n",
    "X_adjusted = df[['Adjusted pH', 'Temperature']]\n",
    "X_adjusted.head()"
   ],
   "metadata": {
    "collapsed": false,
    "pycharm": {
     "name": "#%%\n"
    }
   }
  },
  {
   "cell_type": "code",
   "execution_count": 536,
   "outputs": [
    {
     "data": {
      "text/plain": "     EC\n0  0.82\n1  0.29\n2  0.48\n3  0.48\n4  0.47",
      "text/html": "<div>\n<style scoped>\n    .dataframe tbody tr th:only-of-type {\n        vertical-align: middle;\n    }\n\n    .dataframe tbody tr th {\n        vertical-align: top;\n    }\n\n    .dataframe thead th {\n        text-align: right;\n    }\n</style>\n<table border=\"1\" class=\"dataframe\">\n  <thead>\n    <tr style=\"text-align: right;\">\n      <th></th>\n      <th>EC</th>\n    </tr>\n  </thead>\n  <tbody>\n    <tr>\n      <th>0</th>\n      <td>0.82</td>\n    </tr>\n    <tr>\n      <th>1</th>\n      <td>0.29</td>\n    </tr>\n    <tr>\n      <th>2</th>\n      <td>0.48</td>\n    </tr>\n    <tr>\n      <th>3</th>\n      <td>0.48</td>\n    </tr>\n    <tr>\n      <th>4</th>\n      <td>0.47</td>\n    </tr>\n  </tbody>\n</table>\n</div>"
     },
     "execution_count": 536,
     "metadata": {},
     "output_type": "execute_result"
    }
   ],
   "source": [
    "# Extract Output Columns ( EC )\n",
    "y_adjusted = df[['EC']]\n",
    "y_adjusted.head()"
   ],
   "metadata": {
    "collapsed": false,
    "pycharm": {
     "name": "#%%\n"
    }
   }
  },
  {
   "cell_type": "code",
   "execution_count": 537,
   "outputs": [
    {
     "data": {
      "text/plain": "    pH  Temperature\n0  3.0     1.184874\n1  3.0     1.815126\n2  3.0     2.130252\n3  3.0     2.369748\n4  3.0     2.369748",
      "text/html": "<div>\n<style scoped>\n    .dataframe tbody tr th:only-of-type {\n        vertical-align: middle;\n    }\n\n    .dataframe tbody tr th {\n        vertical-align: top;\n    }\n\n    .dataframe thead th {\n        text-align: right;\n    }\n</style>\n<table border=\"1\" class=\"dataframe\">\n  <thead>\n    <tr style=\"text-align: right;\">\n      <th></th>\n      <th>pH</th>\n      <th>Temperature</th>\n    </tr>\n  </thead>\n  <tbody>\n    <tr>\n      <th>0</th>\n      <td>3.0</td>\n      <td>1.184874</td>\n    </tr>\n    <tr>\n      <th>1</th>\n      <td>3.0</td>\n      <td>1.815126</td>\n    </tr>\n    <tr>\n      <th>2</th>\n      <td>3.0</td>\n      <td>2.130252</td>\n    </tr>\n    <tr>\n      <th>3</th>\n      <td>3.0</td>\n      <td>2.369748</td>\n    </tr>\n    <tr>\n      <th>4</th>\n      <td>3.0</td>\n      <td>2.369748</td>\n    </tr>\n  </tbody>\n</table>\n</div>"
     },
     "execution_count": 537,
     "metadata": {},
     "output_type": "execute_result"
    }
   ],
   "source": [
    "# Extract Input Columns ( Original pH, Temperature )\n",
    "X_original = df[['pH', 'Temperature']]\n",
    "X_original.head()"
   ],
   "metadata": {
    "collapsed": false,
    "pycharm": {
     "name": "#%%\n"
    }
   }
  },
  {
   "cell_type": "code",
   "execution_count": 538,
   "outputs": [
    {
     "data": {
      "text/plain": "     EC\n0  0.82\n1  0.29\n2  0.48\n3  0.48\n4  0.47",
      "text/html": "<div>\n<style scoped>\n    .dataframe tbody tr th:only-of-type {\n        vertical-align: middle;\n    }\n\n    .dataframe tbody tr th {\n        vertical-align: top;\n    }\n\n    .dataframe thead th {\n        text-align: right;\n    }\n</style>\n<table border=\"1\" class=\"dataframe\">\n  <thead>\n    <tr style=\"text-align: right;\">\n      <th></th>\n      <th>EC</th>\n    </tr>\n  </thead>\n  <tbody>\n    <tr>\n      <th>0</th>\n      <td>0.82</td>\n    </tr>\n    <tr>\n      <th>1</th>\n      <td>0.29</td>\n    </tr>\n    <tr>\n      <th>2</th>\n      <td>0.48</td>\n    </tr>\n    <tr>\n      <th>3</th>\n      <td>0.48</td>\n    </tr>\n    <tr>\n      <th>4</th>\n      <td>0.47</td>\n    </tr>\n  </tbody>\n</table>\n</div>"
     },
     "execution_count": 538,
     "metadata": {},
     "output_type": "execute_result"
    }
   ],
   "source": [
    "# Extract Output Columns ( EC )\n",
    "y_original = df[['EC']]\n",
    "y_original.head()"
   ],
   "metadata": {
    "collapsed": false,
    "pycharm": {
     "name": "#%%\n"
    }
   }
  },
  {
   "cell_type": "code",
   "execution_count": 539,
   "outputs": [],
   "source": [
    "# Split Train & Test Data For Both Adjusted & Original Values\n",
    "X_adjusted_train, X_adjusted_test, y_adjusted_train, y_adjusted_test = train_test_split(X_adjusted, y_adjusted, random_state=1)\n",
    "X_original_train, X_original_test, y_original_train, y_original_test = train_test_split(X_original, y_original, random_state=1)\n",
    "\n",
    "y_adjusted_train = y_adjusted_train.values.ravel()\n",
    "y_adjusted_test = y_adjusted_test.values.ravel()\n",
    "\n",
    "y_original_train = y_original_train.values.ravel()\n",
    "y_original_test = y_original_test.values.ravel()"
   ],
   "metadata": {
    "collapsed": false,
    "pycharm": {
     "name": "#%%\n"
    }
   }
  },
  {
   "cell_type": "code",
   "execution_count": 540,
   "outputs": [],
   "source": [
    "# Fit Two Models With Both Original & Adjusted Data\n",
    "adjusted_data_model = MLPRegressor(random_state=1, max_iter=1000, activation='relu', hidden_layer_sizes=(100, 50, 50)).fit(X_adjusted_train, y_adjusted_train)\n",
    "original_data_model = MLPRegressor(random_state=1, max_iter=1000, activation='relu', hidden_layer_sizes=(100, 50, 50)).fit(X_original_train, y_original_train)"
   ],
   "metadata": {
    "collapsed": false,
    "pycharm": {
     "name": "#%%\n"
    }
   }
  },
  {
   "cell_type": "code",
   "execution_count": 541,
   "outputs": [],
   "source": [
    "# Generate Losses For Both Adjusted & Original Models\n",
    "adjusted_data_model_loss = adjusted_data_model.loss_curve_\n",
    "original_data_model_loss = original_data_model.loss_curve_\n",
    "\n",
    "adjusted_data_model_iteration = list(range(1, len(adjusted_data_model_loss) + 1))\n",
    "original_data_model_iteration = list(range(1, len(original_data_model_loss) + 1))"
   ],
   "metadata": {
    "collapsed": false,
    "pycharm": {
     "name": "#%%\n"
    }
   }
  },
  {
   "cell_type": "code",
   "execution_count": 542,
   "outputs": [
    {
     "data": {
      "text/plain": "<Figure size 432x288 with 1 Axes>",
      "image/png": "[encoded data removed]"
     },
     "metadata": {},
     "output_type": "display_data"
    },
    {
     "data": {
      "text/plain": "<Figure size 432x288 with 1 Axes>",
      "image/png": "[encoded data removed]"
     },
     "metadata": {},
     "output_type": "display_data"
    }
   ],
   "source": [
    "# Adjusted Data Model Loss Curve\n",
    "plt.plot(adjusted_data_model_iteration, adjusted_data_model_loss)\n",
    "plt.title('Adjusted Data Model Loss Curve')\n",
    "plt.xlabel('Iteration')\n",
    "plt.ylabel('Loss')\n",
    "plt.show()\n",
    "\n",
    "# Original Data Model Loss Curve\n",
    "plt.plot(original_data_model_iteration, original_data_model_loss)\n",
    "plt.title('Original Data Model Loss Curve')\n",
    "plt.xlabel('Iteration')\n",
    "plt.ylabel('Loss')\n",
    "plt.show()"
   ],
   "metadata": {
    "collapsed": false,
    "pycharm": {
     "name": "#%%\n"
    }
   }
  },
  {
   "cell_type": "code",
   "execution_count": 543,
   "outputs": [
    {
     "name": "stdout",
     "output_type": "stream",
     "text": [
      "Adjusted Data Model Score:  0.9692546323525276\n",
      "Original Data Model Score:  0.9728238747554194\n"
     ]
    }
   ],
   "source": [
    "# Checking The R2 Score Of Both Models\n",
    "adjusted_data_model_score = adjusted_data_model.score(X_adjusted_test, y_adjusted_test)\n",
    "original_data_model_score = original_data_model.score(X_original_test, y_original_test)\n",
    "\n",
    "print('Adjusted Data Model Score: ', adjusted_data_model_score)\n",
    "print('Original Data Model Score: ', original_data_model_score)"
   ],
   "metadata": {
    "collapsed": false,
    "pycharm": {
     "name": "#%%\n"
    }
   }
  },
  {
   "cell_type": "code",
   "execution_count": 544,
   "outputs": [
    {
     "data": {
      "text/plain": "['C:/Users/mwaqa/Desktop/FYP-Soil-Analysis/Models/EC - pH Original Data Model.h5']"
     },
     "execution_count": 544,
     "metadata": {},
     "output_type": "execute_result"
    }
   ],
   "source": [
    "# Saving The Models\n",
    "joblib.dump(adjusted_data_model, 'C:/Users/mwaqa/Desktop/FYP-Soil-Analysis/Models/EC - pH Adjusted Data Model.h5')\n",
    "joblib.dump(original_data_model, 'C:/Users/mwaqa/Desktop/FYP-Soil-Analysis/Models/EC - pH Original Data Model.h5')\n"
   ],
   "metadata": {
    "collapsed": false,
    "pycharm": {
     "name": "#%%\n"
    }
   }
  }
 ],
 "metadata": {
  "kernelspec": {
   "display_name": "Python 3",
   "language": "python",
   "name": "python3"
  },
  "language_info": {
   "codemirror_mode": {
    "name": "ipython",
    "version": 2
   },
   "file_extension": ".py",
   "mimetype": "text/x-python",
   "name": "python",
   "nbconvert_exporter": "python",
   "pygments_lexer": "ipython2",
   "version": "2.7.6"
  }
 },
 "nbformat": 4,
 "nbformat_minor": 0
}