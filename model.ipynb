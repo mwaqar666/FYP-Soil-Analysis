{
 "cells": [
  {
   "cell_type": "code",
   "execution_count": 1,
   "metadata": {},
   "outputs": [],
   "source": [
    "import pandas as pd\n",
    "from sklearn.model_selection import train_test_split\n",
    "\n",
    "# Importing necessary libraries\n",
    "from tensorflow.keras import Sequential\n",
    "from tensorflow.keras.layers import Activation, Dense"
   ]
  },
  {
   "cell_type": "code",
   "execution_count": 2,
   "metadata": {
    "scrolled": false
   },
   "outputs": [
    {
     "data": {
      "text/plain": "   Nitrogen  Phosphorus  Potassium  Temperature        pH        EC\n0        37          62         22    24.020379  7.397546  0.001225\n1        20          72         19    32.476483  7.397191  0.001814\n2        11          53         24    28.523967  7.393899  0.007267\n3       108          33         31    23.692871  7.393826  0.007388\n4        49          76         18    27.053652  7.393632  0.007709",
      "text/html": "<div>\n<style scoped>\n    .dataframe tbody tr th:only-of-type {\n        vertical-align: middle;\n    }\n\n    .dataframe tbody tr th {\n        vertical-align: top;\n    }\n\n    .dataframe thead th {\n        text-align: right;\n    }\n</style>\n<table border=\"1\" class=\"dataframe\">\n  <thead>\n    <tr style=\"text-align: right;\">\n      <th></th>\n      <th>Nitrogen</th>\n      <th>Phosphorus</th>\n      <th>Potassium</th>\n      <th>Temperature</th>\n      <th>pH</th>\n      <th>EC</th>\n    </tr>\n  </thead>\n  <tbody>\n    <tr>\n      <th>0</th>\n      <td>37</td>\n      <td>62</td>\n      <td>22</td>\n      <td>24.020379</td>\n      <td>7.397546</td>\n      <td>0.001225</td>\n    </tr>\n    <tr>\n      <th>1</th>\n      <td>20</td>\n      <td>72</td>\n      <td>19</td>\n      <td>32.476483</td>\n      <td>7.397191</td>\n      <td>0.001814</td>\n    </tr>\n    <tr>\n      <th>2</th>\n      <td>11</td>\n      <td>53</td>\n      <td>24</td>\n      <td>28.523967</td>\n      <td>7.393899</td>\n      <td>0.007267</td>\n    </tr>\n    <tr>\n      <th>3</th>\n      <td>108</td>\n      <td>33</td>\n      <td>31</td>\n      <td>23.692871</td>\n      <td>7.393826</td>\n      <td>0.007388</td>\n    </tr>\n    <tr>\n      <th>4</th>\n      <td>49</td>\n      <td>76</td>\n      <td>18</td>\n      <td>27.053652</td>\n      <td>7.393632</td>\n      <td>0.007709</td>\n    </tr>\n  </tbody>\n</table>\n</div>"
     },
     "execution_count": 2,
     "metadata": {},
     "output_type": "execute_result"
    }
   ],
   "source": [
    "df = pd.read_csv('data.csv').drop(['Humidity', 'Label'], 1)\n",
    "df.head()"
   ]
  },
  {
   "cell_type": "code",
   "execution_count": 3,
   "metadata": {
    "scrolled": true
   },
   "outputs": [
    {
     "data": {
      "text/plain": "          Nitrogen   Phosphorus    Potassium  Temperature           pH  \\\ncount  1967.000000  1967.000000  1967.000000  1967.000000  1967.000000   \nmean     51.170819    53.630402    49.970005    25.745431     6.300796   \nstd      37.205258    34.243773    52.562375     5.037133     0.607577   \nmin       0.000000     5.000000     5.000000     8.825675     3.504752   \n25%      21.000000    27.000000    21.000000    22.948169     5.908328   \n50%      37.000000    50.000000    34.000000    25.685767     6.345806   \n75%      86.000000    69.000000    49.000000    28.559167     6.743699   \nmax     140.000000   145.000000   205.000000    43.675493     7.397546   \n\n                EC  \ncount  1967.000000  \nmean      1.818102  \nstd       1.006512  \nmin       0.001225  \n25%       1.084389  \n50%       1.743538  \n75%       2.468264  \nmax       6.450027  ",
      "text/html": "<div>\n<style scoped>\n    .dataframe tbody tr th:only-of-type {\n        vertical-align: middle;\n    }\n\n    .dataframe tbody tr th {\n        vertical-align: top;\n    }\n\n    .dataframe thead th {\n        text-align: right;\n    }\n</style>\n<table border=\"1\" class=\"dataframe\">\n  <thead>\n    <tr style=\"text-align: right;\">\n      <th></th>\n      <th>Nitrogen</th>\n      <th>Phosphorus</th>\n      <th>Potassium</th>\n      <th>Temperature</th>\n      <th>pH</th>\n      <th>EC</th>\n    </tr>\n  </thead>\n  <tbody>\n    <tr>\n      <th>count</th>\n      <td>1967.000000</td>\n      <td>1967.000000</td>\n      <td>1967.000000</td>\n      <td>1967.000000</td>\n      <td>1967.000000</td>\n      <td>1967.000000</td>\n    </tr>\n    <tr>\n      <th>mean</th>\n      <td>51.170819</td>\n      <td>53.630402</td>\n      <td>49.970005</td>\n      <td>25.745431</td>\n      <td>6.300796</td>\n      <td>1.818102</td>\n    </tr>\n    <tr>\n      <th>std</th>\n      <td>37.205258</td>\n      <td>34.243773</td>\n      <td>52.562375</td>\n      <td>5.037133</td>\n      <td>0.607577</td>\n      <td>1.006512</td>\n    </tr>\n    <tr>\n      <th>min</th>\n      <td>0.000000</td>\n      <td>5.000000</td>\n      <td>5.000000</td>\n      <td>8.825675</td>\n      <td>3.504752</td>\n      <td>0.001225</td>\n    </tr>\n    <tr>\n      <th>25%</th>\n      <td>21.000000</td>\n      <td>27.000000</td>\n      <td>21.000000</td>\n      <td>22.948169</td>\n      <td>5.908328</td>\n      <td>1.084389</td>\n    </tr>\n    <tr>\n      <th>50%</th>\n      <td>37.000000</td>\n      <td>50.000000</td>\n      <td>34.000000</td>\n      <td>25.685767</td>\n      <td>6.345806</td>\n      <td>1.743538</td>\n    </tr>\n    <tr>\n      <th>75%</th>\n      <td>86.000000</td>\n      <td>69.000000</td>\n      <td>49.000000</td>\n      <td>28.559167</td>\n      <td>6.743699</td>\n      <td>2.468264</td>\n    </tr>\n    <tr>\n      <th>max</th>\n      <td>140.000000</td>\n      <td>145.000000</td>\n      <td>205.000000</td>\n      <td>43.675493</td>\n      <td>7.397546</td>\n      <td>6.450027</td>\n    </tr>\n  </tbody>\n</table>\n</div>"
     },
     "execution_count": 3,
     "metadata": {},
     "output_type": "execute_result"
    }
   ],
   "source": [
    "df.describe()"
   ]
  },
  {
   "cell_type": "code",
   "execution_count": 4,
   "metadata": {
    "scrolled": true
   },
   "outputs": [
    {
     "data": {
      "text/plain": "<Figure size 432x288 with 1 Axes>",
      "image/png": "[encoded data removed]"
     },
     "metadata": {
      "needs_background": "light"
     },
     "output_type": "display_data"
    }
   ],
   "source": [
    "scatterData = df[['pH', 'EC']]\n",
    "scatterData.plot.scatter(x='EC', y='pH');"
   ]
  },
  {
   "cell_type": "code",
   "execution_count": 5,
   "metadata": {
    "scrolled": true
   },
   "outputs": [
    {
     "data": {
      "text/plain": "         EC  Temperature\n0  0.001225    24.020379\n1  0.001814    32.476483\n2  0.007267    28.523967\n3  0.007388    23.692871\n4  0.007709    27.053652",
      "text/html": "<div>\n<style scoped>\n    .dataframe tbody tr th:only-of-type {\n        vertical-align: middle;\n    }\n\n    .dataframe tbody tr th {\n        vertical-align: top;\n    }\n\n    .dataframe thead th {\n        text-align: right;\n    }\n</style>\n<table border=\"1\" class=\"dataframe\">\n  <thead>\n    <tr style=\"text-align: right;\">\n      <th></th>\n      <th>EC</th>\n      <th>Temperature</th>\n    </tr>\n  </thead>\n  <tbody>\n    <tr>\n      <th>0</th>\n      <td>0.001225</td>\n      <td>24.020379</td>\n    </tr>\n    <tr>\n      <th>1</th>\n      <td>0.001814</td>\n      <td>32.476483</td>\n    </tr>\n    <tr>\n      <th>2</th>\n      <td>0.007267</td>\n      <td>28.523967</td>\n    </tr>\n    <tr>\n      <th>3</th>\n      <td>0.007388</td>\n      <td>23.692871</td>\n    </tr>\n    <tr>\n      <th>4</th>\n      <td>0.007709</td>\n      <td>27.053652</td>\n    </tr>\n  </tbody>\n</table>\n</div>"
     },
     "execution_count": 5,
     "metadata": {},
     "output_type": "execute_result"
    }
   ],
   "source": [
    "input_data = df[['EC', 'Temperature']]\n",
    "input_data.head()"
   ]
  },
  {
   "cell_type": "code",
   "execution_count": 6,
   "metadata": {
    "scrolled": true
   },
   "outputs": [
    {
     "data": {
      "text/plain": "   Nitrogen  Phosphorus  Potassium        pH\n0        37          62         22  7.397546\n1        20          72         19  7.397191\n2        11          53         24  7.393899\n3       108          33         31  7.393826\n4        49          76         18  7.393632",
      "text/html": "<div>\n<style scoped>\n    .dataframe tbody tr th:only-of-type {\n        vertical-align: middle;\n    }\n\n    .dataframe tbody tr th {\n        vertical-align: top;\n    }\n\n    .dataframe thead th {\n        text-align: right;\n    }\n</style>\n<table border=\"1\" class=\"dataframe\">\n  <thead>\n    <tr style=\"text-align: right;\">\n      <th></th>\n      <th>Nitrogen</th>\n      <th>Phosphorus</th>\n      <th>Potassium</th>\n      <th>pH</th>\n    </tr>\n  </thead>\n  <tbody>\n    <tr>\n      <th>0</th>\n      <td>37</td>\n      <td>62</td>\n      <td>22</td>\n      <td>7.397546</td>\n    </tr>\n    <tr>\n      <th>1</th>\n      <td>20</td>\n      <td>72</td>\n      <td>19</td>\n      <td>7.397191</td>\n    </tr>\n    <tr>\n      <th>2</th>\n      <td>11</td>\n      <td>53</td>\n      <td>24</td>\n      <td>7.393899</td>\n    </tr>\n    <tr>\n      <th>3</th>\n      <td>108</td>\n      <td>33</td>\n      <td>31</td>\n      <td>7.393826</td>\n    </tr>\n    <tr>\n      <th>4</th>\n      <td>49</td>\n      <td>76</td>\n      <td>18</td>\n      <td>7.393632</td>\n    </tr>\n  </tbody>\n</table>\n</div>"
     },
     "execution_count": 6,
     "metadata": {},
     "output_type": "execute_result"
    }
   ],
   "source": [
    "output_data = df.drop(['EC', 'Temperature'], 1)\n",
    "output_data.head()"
   ]
  },
  {
   "cell_type": "code",
   "execution_count": 7,
   "metadata": {
    "scrolled": true
   },
   "outputs": [],
   "source": [
    "X_train, X_test, y_train, y_test = train_test_split(input_data, output_data, test_size=0.20, random_state=7)"
   ]
  },
  {
   "cell_type": "code",
   "execution_count": null,
   "metadata": {},
   "outputs": [],
   "source": [
    "model = Sequential()\n",
    "model.add(Dense(32, input_shape=(4, )))\n",
    "model.add(Activation('relu'))\n",
    "# model.add(Dense(16, input_shape=(16, )))\n",
    "# model.add(Activation('relu'))\n",
    "model.add(Dense(3, input_shape=(16, )))\n",
    "model.add(Activation('relu'))"
   ]
  },
  {
   "cell_type": "code",
   "execution_count": null,
   "metadata": {},
   "outputs": [],
   "source": [
    "# Compile the defined model\n",
    "model.compile(\n",
    "            optimizer='SGD',\n",
    "            loss='mean_squared_error',\n",
    "            metrics=['accuracy'])"
   ]
  },
  {
   "cell_type": "code",
   "execution_count": null,
   "metadata": {
    "scrolled": false
   },
   "outputs": [],
   "source": [
    "# Train the keras model with the train dataset\n",
    "model.fit(X_train, y_train, epochs=10, batch_size=14)"
   ]
  },
  {
   "cell_type": "code",
   "execution_count": null,
   "metadata": {},
   "outputs": [],
   "source": [
    "# Evaluate the keras model\n",
    "_, accuracy = model.evaluate(X_test, y_test)\n",
    "print('Accuracy: %.2f' % (accuracy*100))"
   ]
  },
  {
   "cell_type": "code",
   "execution_count": null,
   "metadata": {
    "pycharm": {
     "name": "#%%\n"
    }
   },
   "outputs": [],
   "source": [
    "# Create a HDF5 file to save the model\n",
    "model.save('../models/categorical_crossentropy.h5')"
   ]
  }
 ],
 "metadata": {
  "kernelspec": {
   "display_name": "Python 3",
   "language": "python",
   "name": "python3"
  },
  "language_info": {
   "codemirror_mode": {
    "name": "ipython",
    "version": 3
   },
   "file_extension": ".py",
   "mimetype": "text/x-python",
   "name": "python",
   "nbconvert_exporter": "python",
   "pygments_lexer": "ipython3",
   "version": "3.7.9"
  }
 },
 "nbformat": 4,
 "nbformat_minor": 2
}